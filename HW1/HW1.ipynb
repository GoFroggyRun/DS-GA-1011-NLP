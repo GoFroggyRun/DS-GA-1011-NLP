{
 "cells": [
  {
   "cell_type": "code",
   "execution_count": 1,
   "metadata": {},
   "outputs": [],
   "source": [
    "# the read_txt file opens all txt file in the directory and \n",
    "# import text in all files into a list \n",
    "import glob\n",
    "def read_txt(list):\n",
    "    for f in read_files:\n",
    "        with open(f, \"rb\") as infile:\n",
    "            list.append(str(infile.read(), 'utf-8'))"
   ]
  },
  {
   "cell_type": "code",
   "execution_count": 2,
   "metadata": {},
   "outputs": [],
   "source": [
    "# get data\n",
    "read_files = glob.glob(\"/Users/sean/Documents/NLP/hw1/aclImdb/train/neg/*.txt\")\n",
    "neg_train = []\n",
    "read_txt(neg_train)\n",
    "read_files = glob.glob(\"/Users/sean/Documents/NLP/hw1/aclImdb/train/pos/*.txt\")\n",
    "pos_train = []\n",
    "read_txt(pos_train)\n",
    "read_files = glob.glob(\"/Users/sean/Documents/NLP/hw1/aclImdb/test/neg/*.txt\")\n",
    "neg_test = []\n",
    "read_txt(neg_test)\n",
    "read_files = glob.glob(\"/Users/sean/Documents/NLP/hw1/aclImdb/test/pos/*.txt\")\n",
    "pos_test = []\n",
    "read_txt(pos_test)"
   ]
  },
  {
   "cell_type": "code",
   "execution_count": 3,
   "metadata": {},
   "outputs": [],
   "source": [
    "# define a class for our model \n",
    "class Data:\n",
    "    def __init__(self, text, target):\n",
    "        self.text = text\n",
    "        self.target = target"
   ]
  },
  {
   "cell_type": "code",
   "execution_count": 4,
   "metadata": {},
   "outputs": [],
   "source": [
    "import numpy as np\n",
    "# the first input is for list of negative reviews, and the second one is for positive ones.\n",
    "# we label them correspondingly with 0 and 1\n",
    "def merge_data(neg,pos):\n",
    "    return Data(neg + pos,np.concatenate((np.zeros(len(neg)), np.ones(len(pos)))))"
   ]
  },
  {
   "cell_type": "code",
   "execution_count": 5,
   "metadata": {},
   "outputs": [],
   "source": [
    "# train-validation split where we maintain the 50:50 label ratio\n",
    "train_valid_split = 2500\n",
    "valid = merge_data(neg_train[:train_valid_split],pos_train[:train_valid_split])\n",
    "train = merge_data(neg_train[train_valid_split:],pos_train[train_valid_split:])\n",
    "test = merge_data(neg_test,pos_test)"
   ]
  },
  {
   "cell_type": "code",
   "execution_count": 126,
   "metadata": {},
   "outputs": [],
   "source": [
    "import spacy\n",
    "import string\n",
    "\n",
    "# Load English tokenizer, tagger, parser, NER and word vectors\n",
    "tokenizer = spacy.load('en_core_web_sm')\n",
    "punctuations = string.punctuation\n",
    "\n",
    "# lowercase and remove punctuation\n",
    "def tokenize(sent):\n",
    "  tokens = tokenizer(sent)\n",
    "  return [token.text.lower() for token in tokens if (token.text not in punctuations)]"
   ]
  },
  {
   "cell_type": "code",
   "execution_count": 7,
   "metadata": {},
   "outputs": [],
   "source": [
    "import pickle as pkl\n",
    "\n",
    "def tokenize_dataset(dataset):\n",
    "    token_dataset = []\n",
    "    # we are keeping track of all tokens in dataset \n",
    "    # in order to create vocabulary later\n",
    "    all_tokens = []\n",
    "    \n",
    "    for sample in dataset:\n",
    "        tokens = tokenize(sample)\n",
    "        token_dataset.append(tokens)\n",
    "        all_tokens += tokens\n",
    "\n",
    "    return token_dataset, all_tokens"
   ]
  },
  {
   "cell_type": "code",
   "execution_count": 8,
   "metadata": {},
   "outputs": [],
   "source": [
    "val_data_tokens, _ = tokenize_dataset(valid.text)\n",
    "pkl.dump(val_data_tokens, open(\"val_data_1gram.p\", \"wb\"))"
   ]
  },
  {
   "cell_type": "code",
   "execution_count": 9,
   "metadata": {},
   "outputs": [],
   "source": [
    "test_data_tokens, _ = tokenize_dataset(test.text)\n",
    "pkl.dump(test_data_tokens, open(\"test_data_1gram.p\", \"wb\"))"
   ]
  },
  {
   "cell_type": "code",
   "execution_count": 10,
   "metadata": {},
   "outputs": [],
   "source": [
    "train_data_tokens, all_train_tokens = tokenize_dataset(train.text)\n",
    "pkl.dump(train_data_tokens, open(\"train_data_1gram.p\", \"wb\"))\n",
    "pkl.dump(all_train_tokens, open(\"all_train_1gram.p\", \"wb\"))"
   ]
  },
  {
   "cell_type": "code",
   "execution_count": 110,
   "metadata": {},
   "outputs": [],
   "source": [
    "import pickle as pkl\n",
    "# Then, load preprocessed train, val and test datasets\n",
    "train_data_tokens = pkl.load(open(\"train_data_1gram.p\", \"rb\"))\n",
    "all_train_tokens = pkl.load(open(\"all_train_1gram.p\", \"rb\"))\n",
    "val_data_tokens = pkl.load(open(\"val_data_1gram.p\", \"rb\"))\n",
    "test_data_tokens = pkl.load(open(\"test_data_1gram.p\", \"rb\"))\n"
   ]
  },
  {
   "cell_type": "code",
   "execution_count": 111,
   "metadata": {},
   "outputs": [],
   "source": [
    "from collections import Counter\n",
    "\n",
    "# save index 0 for unk and 1 for pad\n",
    "PAD_IDX = 0\n",
    "UNK_IDX = 1\n",
    "\n",
    "def build_vocab(all_tokens, max_vocab_size = 10000):\n",
    "    # Returns:\n",
    "    # id2token: list of tokens, where id2token[i] returns token that corresponds to token i\n",
    "    # token2id: dictionary where keys represent tokens and corresponding values represent indices\n",
    "    token_counter = Counter(all_tokens)\n",
    "    vocab, count = zip(*token_counter.most_common(max_vocab_size))\n",
    "    id2token = list(vocab)\n",
    "    token2id = dict(zip(vocab, range(2,2+len(vocab)))) \n",
    "    id2token = ['<pad>', '<unk>'] + id2token\n",
    "    token2id['<pad>'] = PAD_IDX \n",
    "    token2id['<unk>'] = UNK_IDX\n",
    "    return token2id, id2token\n",
    "\n",
    "token2id, id2token = build_vocab(all_train_tokens)\n",
    "\n",
    "\n",
    "def token2index_dataset(tokens_data):\n",
    "    indices_data = []\n",
    "    for tokens in tokens_data:\n",
    "        index_list = [token2id[token] if token in token2id else UNK_IDX for token in tokens]\n",
    "        indices_data.append(index_list)\n",
    "    return indices_data\n",
    "\n",
    "train_data_indices = token2index_dataset(train_data_tokens)\n",
    "val_data_indices = token2index_dataset(val_data_tokens)\n",
    "test_data_indices = token2index_dataset(test_data_tokens)"
   ]
  },
  {
   "cell_type": "code",
   "execution_count": 114,
   "metadata": {},
   "outputs": [],
   "source": [
    "MAX_SENTENCE_LENGTH = 200\n",
    "\n",
    "import numpy as np\n",
    "import torch\n",
    "from torch.utils.data import Dataset\n",
    "\n",
    "class GroupDataset(Dataset):\n",
    "    \"\"\"\n",
    "    Class that represents a train/validation/test dataset that's readable for PyTorch\n",
    "    Note that this class inherits torch.utils.data.Dataset\n",
    "    \"\"\"\n",
    "    \n",
    "    def __init__(self, data_list, target_list):\n",
    "        \"\"\"\n",
    "        @param data_list: list of newsgroup tokens \n",
    "        @param target_list: list of newsgroup targets \n",
    "\n",
    "        \"\"\"\n",
    "        self.data_list = data_list\n",
    "        self.target_list = target_list\n",
    "        assert (len(self.data_list) == len(self.target_list))\n",
    "\n",
    "    def __len__(self):\n",
    "        return len(self.data_list)\n",
    "        \n",
    "    def __getitem__(self, key):\n",
    "        \"\"\"\n",
    "        Triggered when you call dataset[i]\n",
    "        \"\"\"\n",
    "        \n",
    "        token_idx = self.data_list[key][:MAX_SENTENCE_LENGTH]\n",
    "        label = self.target_list[key]\n",
    "        return [token_idx, len(token_idx), label]"
   ]
  },
  {
   "cell_type": "code",
   "execution_count": 115,
   "metadata": {},
   "outputs": [],
   "source": [
    "def collate_func(batch):\n",
    "    \"\"\"\n",
    "    Customized function for DataLoader that dynamically pads the batch so that all \n",
    "    data have the same length\n",
    "    \"\"\"\n",
    "    data_list = []\n",
    "    label_list = []\n",
    "    length_list = []\n",
    "    #print(\"collate batch: \", batch[0][0])\n",
    "    #batch[0][0] = batch[0][0][:MAX_SENTENCE_LENGTH]\n",
    "    for datum in batch:\n",
    "        label_list.append(datum[2])\n",
    "        length_list.append(datum[1])\n",
    "    # padding\n",
    "    for datum in batch:\n",
    "        padded_vec = np.pad(np.array(datum[0]), \n",
    "                                pad_width=((0,MAX_SENTENCE_LENGTH-datum[1])), \n",
    "                                mode=\"constant\", constant_values=0)\n",
    "        data_list.append(padded_vec)\n",
    "    return [torch.from_numpy(np.array(data_list)), torch.LongTensor(length_list), torch.LongTensor(label_list)]"
   ]
  },
  {
   "cell_type": "code",
   "execution_count": 116,
   "metadata": {},
   "outputs": [],
   "source": [
    "# wrap GroupDataset function and DataLoader function \n",
    "def prepare_batch_data(data_ind, data_target, BATCH_SIZE = 50, shuffle = True):\n",
    "    data = GroupDataset(data_ind, data_target)\n",
    "    loader = torch.utils.data.DataLoader(dataset=data, batch_size=BATCH_SIZE,\n",
    "                                            collate_fn=collate_func, shuffle = shuffle)\n",
    "    return loader"
   ]
  },
  {
   "cell_type": "code",
   "execution_count": 117,
   "metadata": {},
   "outputs": [],
   "source": [
    "# First import torch related libraries\n",
    "import torch\n",
    "import torch.nn as nn\n",
    "import torch.nn.functional as F\n",
    "\n",
    "class BagOfWords(nn.Module):\n",
    "    \"\"\"\n",
    "    BagOfWords classification model\n",
    "    \"\"\"\n",
    "    def __init__(self, vocab_size, emb_dim):\n",
    "        \"\"\"\n",
    "        @param vocab_size: size of the vocabulary. \n",
    "        @param emb_dim: size of the word embedding\n",
    "        \"\"\"\n",
    "        super(BagOfWords, self).__init__()\n",
    "        # pay attention to padding_idx \n",
    "        self.embed = nn.Embedding(vocab_size, emb_dim, padding_idx=0)\n",
    "        # set the output to 2 since we only have 2 classes \n",
    "        self.linear = nn.Linear(emb_dim,2)\n",
    "    \n",
    "    def forward(self, data, length):\n",
    "        \"\"\"\n",
    "        \n",
    "        @param data: matrix of size (batch_size, max_sentence_length). Each row in data represents a \n",
    "            review that is represented using n-gram index. Note that they are padded to have same length.\n",
    "        @param length: an int tensor of size (batch_size), which represents the non-trivial (excludes padding)\n",
    "            length of each sentences in the data.\n",
    "        \"\"\"\n",
    "        out = self.embed(data)\n",
    "        out = torch.sum(out, dim=1)\n",
    "        out /= length.view(length.size()[0],1).expand_as(out).float()\n",
    "     \n",
    "        # return logits\n",
    "        out = self.linear(out.float())\n",
    "        return out"
   ]
  },
  {
   "cell_type": "code",
   "execution_count": 305,
   "metadata": {},
   "outputs": [],
   "source": [
    "# Function for testing the model\n",
    "def test_model(loader, model):\n",
    "    \"\"\"\n",
    "    Help function that tests the model's performance on a dataset\n",
    "    @param: loader - data loader for the dataset to test against\n",
    "    \"\"\"\n",
    "    correct = 0\n",
    "    total = 0\n",
    "    model.eval()\n",
    "    for data, lengths, labels in loader:\n",
    "        data_batch, length_batch, label_batch = data, lengths, labels\n",
    "        outputs = F.softmax(model(data_batch, length_batch), dim=1)\n",
    "        predicted = outputs.max(1, keepdim=True)[1]\n",
    "\n",
    "        total += labels.size(0)\n",
    "        correct += predicted.eq(labels.view_as(predicted)).sum().item()\n",
    "    return (100 * correct / total)"
   ]
  },
  {
   "cell_type": "code",
   "execution_count": 13,
   "metadata": {},
   "outputs": [],
   "source": [
    "# this function allows us to tune different optimization parameters\n",
    "def tune_optim(optimizer_type = 'Adam',learning_rate = 0.01, annealing = False, num_epochs =10):\n",
    "    # allow different kinds of optimizers\n",
    "    def prep_opti(optimizer_type = 'Adam',learning_rate = learning_rate, annealing = False):\n",
    "        criterion = torch.nn.CrossEntropyLoss()\n",
    "        if optimizer_type == 'Adam':\n",
    "            optimizer = torch.optim.Adam(model.parameters(), lr=learning_rate)\n",
    "        elif optimizer_type == 'SGD':\n",
    "            optimizer = torch.optim.SGD(model.parameters(), lr=learning_rate)\n",
    "        else:\n",
    "            raise ValueError('Invalid Optimizer')\n",
    "        if annealing:\n",
    "            scheduler = torch.optim.lr_scheduler.LambdaLR(optimizer, lr_lambda=lambda epoch: 0.95**epoch)\n",
    "            return criterion, optimizer, scheduler\n",
    "        else:\n",
    "            return criterion, optimizer\n",
    "    \n",
    "    # prepare an additional scheduler if we were using annealing of learning rate\n",
    "    if annealing:\n",
    "        criterion, optimizer, scheduler = prep_opti(optimizer_type = optimizer_type,learning_rate = learning_rate, annealing = True)\n",
    "    else:\n",
    "        criterion, optimizer = prep_opti(optimizer_type = optimizer_type,learning_rate = learning_rate, annealing = False)\n",
    "     \n",
    "    # use list to store output \n",
    "    _list = []\n",
    "    for epoch in range(num_epochs):\n",
    "        # decrease learning rate when annealing\n",
    "        if annealing:\n",
    "            scheduler.step()\n",
    "        # for param_group in optimizer.param_groups:\n",
    "        #    print(param_group['lr'])\n",
    "        for i, (data, lengths, labels) in enumerate(train_loader):\n",
    "            model.train()\n",
    "            data_batch, length_batch, label_batch = data, lengths, labels\n",
    "            optimizer.zero_grad()\n",
    "            outputs = model(data_batch, length_batch)\n",
    "            loss = criterion(outputs, label_batch)\n",
    "            loss.backward()\n",
    "            optimizer.step()\n",
    "        _list.append( test_model(val_loader, model))\n",
    "    return _list"
   ]
  },
  {
   "cell_type": "code",
   "execution_count": 15,
   "metadata": {},
   "outputs": [],
   "source": [
    "learn_tune = {}\n",
    "train_loader = prepare_batch_data(train_data_indices, train.target, BATCH_SIZE = 50)\n",
    "val_loader = prepare_batch_data(val_data_indices, valid.target, BATCH_SIZE = 50)\n",
    "# we experiment how learning rate would affect model accuracy\n",
    "for rate in [0.0001, 0.001, 0.01, 0.1]:\n",
    "    model = BagOfWords(len(id2token), 100)\n",
    "    learn_tune[rate]  = tune_optim(learning_rate = rate, num_epochs = 50)"
   ]
  },
  {
   "cell_type": "code",
   "execution_count": 16,
   "metadata": {},
   "outputs": [
    {
     "data": {
      "text/plain": [
       "{0.0001: [60.42,\n",
       "  65.84,\n",
       "  69.2,\n",
       "  70.94,\n",
       "  72.36,\n",
       "  73.4,\n",
       "  74.6,\n",
       "  75.88,\n",
       "  76.88,\n",
       "  77.54,\n",
       "  78.2,\n",
       "  79.08,\n",
       "  79.76,\n",
       "  80.54,\n",
       "  81.04,\n",
       "  81.34,\n",
       "  81.84,\n",
       "  82.22,\n",
       "  82.62,\n",
       "  83.08,\n",
       "  83.4,\n",
       "  83.74,\n",
       "  84.0,\n",
       "  84.38,\n",
       "  84.44,\n",
       "  84.74,\n",
       "  84.84,\n",
       "  84.86,\n",
       "  85.1,\n",
       "  85.36,\n",
       "  85.6,\n",
       "  85.7,\n",
       "  85.86,\n",
       "  85.94,\n",
       "  86.0,\n",
       "  86.16,\n",
       "  86.24,\n",
       "  86.4,\n",
       "  86.46,\n",
       "  86.52,\n",
       "  86.54,\n",
       "  86.62,\n",
       "  86.6,\n",
       "  86.68,\n",
       "  86.86,\n",
       "  86.88,\n",
       "  87.06,\n",
       "  87.06,\n",
       "  87.14,\n",
       "  87.48],\n",
       " 0.001: [78.16,\n",
       "  84.04,\n",
       "  86.04,\n",
       "  87.42,\n",
       "  87.72,\n",
       "  88.04,\n",
       "  88.12,\n",
       "  88.42,\n",
       "  88.26,\n",
       "  88.28,\n",
       "  88.08,\n",
       "  87.76,\n",
       "  87.54,\n",
       "  87.5,\n",
       "  87.28,\n",
       "  87.12,\n",
       "  86.94,\n",
       "  86.84,\n",
       "  86.78,\n",
       "  86.3,\n",
       "  86.3,\n",
       "  86.28,\n",
       "  86.26,\n",
       "  85.92,\n",
       "  85.86,\n",
       "  85.7,\n",
       "  85.36,\n",
       "  85.44,\n",
       "  85.18,\n",
       "  85.26,\n",
       "  85.22,\n",
       "  84.8,\n",
       "  84.92,\n",
       "  84.8,\n",
       "  84.74,\n",
       "  84.64,\n",
       "  84.6,\n",
       "  84.42,\n",
       "  84.52,\n",
       "  84.42,\n",
       "  84.22,\n",
       "  84.28,\n",
       "  84.34,\n",
       "  84.32,\n",
       "  84.26,\n",
       "  84.26,\n",
       "  84.04,\n",
       "  84.08,\n",
       "  83.88,\n",
       "  83.86],\n",
       " 0.01: [88.14,\n",
       "  87.38,\n",
       "  86.34,\n",
       "  85.56,\n",
       "  85.2,\n",
       "  84.38,\n",
       "  84.26,\n",
       "  83.48,\n",
       "  83.7,\n",
       "  83.54,\n",
       "  83.58,\n",
       "  82.82,\n",
       "  83.24,\n",
       "  82.82,\n",
       "  82.48,\n",
       "  83.28,\n",
       "  83.14,\n",
       "  83.38,\n",
       "  83.34,\n",
       "  83.34,\n",
       "  83.32,\n",
       "  83.34,\n",
       "  83.38,\n",
       "  83.36,\n",
       "  83.34,\n",
       "  83.3,\n",
       "  83.24,\n",
       "  83.26,\n",
       "  83.2,\n",
       "  83.28,\n",
       "  83.28,\n",
       "  83.1,\n",
       "  83.16,\n",
       "  83.1,\n",
       "  83.06,\n",
       "  83.08,\n",
       "  83.02,\n",
       "  83.08,\n",
       "  83.06,\n",
       "  83.08,\n",
       "  83.02,\n",
       "  83.02,\n",
       "  82.98,\n",
       "  83.08,\n",
       "  82.96,\n",
       "  82.92,\n",
       "  83.0,\n",
       "  82.98,\n",
       "  83.04,\n",
       "  83.02],\n",
       " 0.1: [86.26,\n",
       "  86.22,\n",
       "  83.4,\n",
       "  85.14,\n",
       "  83.14,\n",
       "  83.92,\n",
       "  84.76,\n",
       "  83.54,\n",
       "  83.92,\n",
       "  82.3,\n",
       "  83.56,\n",
       "  83.28,\n",
       "  82.68,\n",
       "  83.32,\n",
       "  82.6,\n",
       "  82.72,\n",
       "  83.54,\n",
       "  83.04,\n",
       "  83.16,\n",
       "  82.92,\n",
       "  83.56,\n",
       "  83.04,\n",
       "  82.98,\n",
       "  83.1,\n",
       "  82.96,\n",
       "  83.0,\n",
       "  82.88,\n",
       "  83.5,\n",
       "  82.68,\n",
       "  83.02,\n",
       "  82.38,\n",
       "  82.42,\n",
       "  82.64,\n",
       "  83.1,\n",
       "  82.84,\n",
       "  82.94,\n",
       "  82.66,\n",
       "  82.36,\n",
       "  82.82,\n",
       "  83.1,\n",
       "  82.68,\n",
       "  82.52,\n",
       "  82.64,\n",
       "  82.64,\n",
       "  83.16,\n",
       "  82.56,\n",
       "  82.62,\n",
       "  82.74,\n",
       "  82.92,\n",
       "  83.08]}"
      ]
     },
     "execution_count": 16,
     "metadata": {},
     "output_type": "execute_result"
    }
   ],
   "source": [
    "learn_tune"
   ]
  },
  {
   "cell_type": "code",
   "execution_count": null,
   "metadata": {},
   "outputs": [],
   "source": []
  },
  {
   "cell_type": "code",
   "execution_count": 17,
   "metadata": {
    "scrolled": true
   },
   "outputs": [],
   "source": [
    "annealing_or_not = {}\n",
    "# we experiment how annealing of learning rate would affect our model\n",
    "for anne in [True, False]:\n",
    "    model = BagOfWords(len(id2token), 100)\n",
    "    annealing_or_not[anne]  = tune_optim(learning_rate = 0.001, annealing = anne, num_epochs = 20)"
   ]
  },
  {
   "cell_type": "code",
   "execution_count": 18,
   "metadata": {},
   "outputs": [
    {
     "data": {
      "text/plain": [
       "{True: [77.68,\n",
       "  83.9,\n",
       "  86.14,\n",
       "  87.32,\n",
       "  87.72,\n",
       "  87.92,\n",
       "  87.98,\n",
       "  88.04,\n",
       "  88.18,\n",
       "  88.1,\n",
       "  88.3,\n",
       "  88.24,\n",
       "  88.04,\n",
       "  88.1,\n",
       "  88.06,\n",
       "  87.88,\n",
       "  87.98,\n",
       "  87.92,\n",
       "  87.88,\n",
       "  87.84],\n",
       " False: [77.82,\n",
       "  83.62,\n",
       "  85.94,\n",
       "  86.98,\n",
       "  87.5,\n",
       "  87.9,\n",
       "  87.92,\n",
       "  87.9,\n",
       "  87.92,\n",
       "  87.78,\n",
       "  87.54,\n",
       "  87.5,\n",
       "  87.4,\n",
       "  87.3,\n",
       "  87.18,\n",
       "  86.96,\n",
       "  87.08,\n",
       "  86.84,\n",
       "  86.6,\n",
       "  86.46]}"
      ]
     },
     "execution_count": 18,
     "metadata": {},
     "output_type": "execute_result"
    }
   ],
   "source": [
    "annealing_or_not"
   ]
  },
  {
   "cell_type": "code",
   "execution_count": null,
   "metadata": {},
   "outputs": [],
   "source": []
  },
  {
   "cell_type": "code",
   "execution_count": 125,
   "metadata": {},
   "outputs": [],
   "source": [
    "optimizer_kind = {}\n",
    "# we experiment how different optimizer would affect our model\n",
    "for optimizer in ['Adam', 'SGD']:\n",
    "    model = BagOfWords(len(id2token), 100)\n",
    "    optimizer_kind[optimizer]  = tune_optim(optimizer_type = optimizer, annealing = True, learning_rate = 0.01, num_epochs = 50)"
   ]
  },
  {
   "cell_type": "code",
   "execution_count": 126,
   "metadata": {},
   "outputs": [
    {
     "data": {
      "text/plain": [
       "{'Adam': [87.7,\n",
       "  87.38,\n",
       "  86.84,\n",
       "  85.84,\n",
       "  85.42,\n",
       "  84.86,\n",
       "  84.16,\n",
       "  83.58,\n",
       "  83.64,\n",
       "  83.52,\n",
       "  83.54,\n",
       "  83.44,\n",
       "  83.52,\n",
       "  83.54,\n",
       "  83.5,\n",
       "  83.48,\n",
       "  83.34,\n",
       "  83.14,\n",
       "  83.22,\n",
       "  83.22,\n",
       "  83.12,\n",
       "  83.18,\n",
       "  83.16,\n",
       "  83.08,\n",
       "  83.14,\n",
       "  83.16,\n",
       "  83.1,\n",
       "  83.2,\n",
       "  83.12,\n",
       "  83.1,\n",
       "  83.02,\n",
       "  83.04,\n",
       "  83.02,\n",
       "  83.0,\n",
       "  82.96,\n",
       "  82.88,\n",
       "  82.98,\n",
       "  82.88,\n",
       "  82.98,\n",
       "  82.92,\n",
       "  82.92,\n",
       "  82.92,\n",
       "  82.96,\n",
       "  82.86,\n",
       "  83.0,\n",
       "  83.02,\n",
       "  82.94,\n",
       "  82.94,\n",
       "  82.84,\n",
       "  82.76],\n",
       " 'SGD': [55.06,\n",
       "  58.36,\n",
       "  59.5,\n",
       "  62.64,\n",
       "  62.2,\n",
       "  62.68,\n",
       "  63.46,\n",
       "  63.36,\n",
       "  63.96,\n",
       "  63.86,\n",
       "  64.06,\n",
       "  64.26,\n",
       "  64.44,\n",
       "  64.38,\n",
       "  64.24,\n",
       "  64.3,\n",
       "  64.4,\n",
       "  64.46,\n",
       "  64.54,\n",
       "  64.62,\n",
       "  64.7,\n",
       "  64.86,\n",
       "  65.0,\n",
       "  65.02,\n",
       "  65.04,\n",
       "  65.1,\n",
       "  65.0,\n",
       "  65.22,\n",
       "  65.1,\n",
       "  65.22,\n",
       "  65.12,\n",
       "  65.16,\n",
       "  65.28,\n",
       "  65.24,\n",
       "  65.34,\n",
       "  65.36,\n",
       "  65.44,\n",
       "  65.42,\n",
       "  65.34,\n",
       "  65.34,\n",
       "  65.3,\n",
       "  65.36,\n",
       "  65.36,\n",
       "  65.34,\n",
       "  65.36,\n",
       "  65.38,\n",
       "  65.4,\n",
       "  65.38,\n",
       "  65.46,\n",
       "  65.44]}"
      ]
     },
     "execution_count": 126,
     "metadata": {},
     "output_type": "execute_result"
    }
   ],
   "source": [
    "optimizer_kind"
   ]
  },
  {
   "cell_type": "code",
   "execution_count": null,
   "metadata": {},
   "outputs": [],
   "source": []
  },
  {
   "cell_type": "code",
   "execution_count": null,
   "metadata": {},
   "outputs": [],
   "source": []
  },
  {
   "cell_type": "code",
   "execution_count": null,
   "metadata": {},
   "outputs": [],
   "source": [
    "def tokenize(sent):\n",
    "  tokens = tokenizer(sent)\n",
    "  return [token.text.lower() for token in tokens if (token.text not in punctuations)]"
   ]
  },
  {
   "cell_type": "code",
   "execution_count": 131,
   "metadata": {},
   "outputs": [],
   "source": [
    "def tokenize_dataset_n(dataset, ngram = 1):\n",
    "    token_dataset = []\n",
    "    # we are keeping track of all tokens in dataset \n",
    "    # in order to create vocabulary later\n",
    "    all_tokens = []\n",
    "    \n",
    "    for sample in dataset:\n",
    "        tokens = tokenize(sample)\n",
    "        # join n consecutive single grams and consist n-grams\n",
    "        grams = [' '.join(tokens[i:i+ngram]) for i in range(len(tokens)-ngram+1)]\n",
    "        token_dataset.append(grams)\n",
    "        all_tokens += grams\n",
    "\n",
    "    return token_dataset, all_tokens"
   ]
  },
  {
   "cell_type": "code",
   "execution_count": null,
   "metadata": {},
   "outputs": [],
   "source": [
    "# prepare data for n grams, as we did for single gram case\n",
    "val_data_2_gram, _ = tokenize_dataset_n(valid.text, ngram =2 )\n",
    "pkl.dump(val_data_2_gram, open(\"val_data_2gram.p\", \"wb\"))\n",
    "test_data_2_gram, _ = tokenize_dataset_n(test.text, ngram =2 )\n",
    "pkl.dump(test_data_2_gram, open(\"test_data_2gram.p\", \"wb\"))\n",
    "\n",
    "val_data_3_gram, _ = tokenize_dataset_n(valid.text, ngram =3 )\n",
    "pkl.dump(val_data_3_gram, open(\"val_data_3gram.p\", \"wb\"))\n",
    "test_data_3_gram, _ = tokenize_dataset_n(test.text, ngram =3 )\n",
    "pkl.dump(test_data_3_gram, open(\"test_data_3gram.p\", \"wb\"))\n",
    "\n",
    "val_data_4_gram, _ = tokenize_dataset_n(valid.text, ngram =4 )\n",
    "pkl.dump(val_data_4_gram, open(\"val_data_4gram.p\", \"wb\"))\n",
    "test_data_4_gram, _ = tokenize_dataset_n(test.text, ngram =4 )\n",
    "pkl.dump(test_data_4_gram, open(\"test_data_4gram.p\", \"wb\"))\n",
    "\n",
    "train_data_2_gram, all_train_2_gram = tokenize_dataset_n(train.text, ngram =2 )\n",
    "pkl.dump(train_data_2_gram, open(\"train_data_2gram.p\", \"wb\"))\n",
    "pkl.dump(all_train_2_gram, open(\"all_train_2gram.p\", \"wb\"))\n",
    "\n",
    "train_data_3_gram, all_train_3_gram = tokenize_dataset_n(train.text, ngram =3 )\n",
    "pkl.dump(train_data_3_gram, open(\"train_data_3gram.p\", \"wb\"))\n",
    "pkl.dump(all_train_3_gram, open(\"all_train_3gram.p\", \"wb\"))\n",
    "\n",
    "train_data_4_gram, all_train_4_gram = tokenize_dataset_n(train.text, ngram =4 )\n",
    "pkl.dump(train_data_4_gram, open(\"train_data_4gram.p\", \"wb\"))\n",
    "pkl.dump(all_train_4_gram, open(\"all_train_4gram.p\", \"wb\"))"
   ]
  },
  {
   "cell_type": "code",
   "execution_count": null,
   "metadata": {},
   "outputs": [],
   "source": []
  },
  {
   "cell_type": "code",
   "execution_count": null,
   "metadata": {},
   "outputs": [],
   "source": []
  },
  {
   "cell_type": "code",
   "execution_count": null,
   "metadata": {},
   "outputs": [],
   "source": []
  },
  {
   "cell_type": "code",
   "execution_count": null,
   "metadata": {},
   "outputs": [],
   "source": []
  },
  {
   "cell_type": "code",
   "execution_count": null,
   "metadata": {},
   "outputs": [],
   "source": []
  },
  {
   "cell_type": "code",
   "execution_count": 66,
   "metadata": {},
   "outputs": [],
   "source": [
    "# this function allows us to tune different model hyperparameters\n",
    "def tune_model(ngram = 1, vocab_size = 10000, emb_size = 100):\n",
    "    \n",
    "    if ngram == 1: \n",
    "        train_data_tokens = pkl.load(open(\"train_data_1gram.p\", \"rb\"))\n",
    "        all_train_tokens = pkl.load(open(\"all_train_1gram.p\", \"rb\"))\n",
    "        val_data_tokens = pkl.load(open(\"val_data_1gram.p\", \"rb\"))\n",
    "    if ngram == 2: \n",
    "        train_data_tokens = pkl.load(open(\"train_data_2gram.p\", \"rb\"))\n",
    "        all_train_tokens = pkl.load(open(\"all_train_2gram.p\", \"rb\"))\n",
    "        val_data_tokens = pkl.load(open(\"val_data_2gram.p\", \"rb\"))\n",
    "    if ngram == 3: \n",
    "        train_data_tokens = pkl.load(open(\"train_data_3gram.p\", \"rb\"))\n",
    "        all_train_tokens = pkl.load(open(\"all_train_3gram.p\", \"rb\"))\n",
    "        val_data_tokens = pkl.load(open(\"val_data_3gram.p\", \"rb\"))\n",
    "    if ngram == 4: \n",
    "        train_data_tokens = pkl.load(open(\"train_data_4gram.p\", \"rb\"))\n",
    "        all_train_tokens = pkl.load(open(\"all_train_4gram.p\", \"rb\"))\n",
    "        val_data_tokens = pkl.load(open(\"val_data_4gram.p\", \"rb\"))\n",
    "    PAD_IDX = 0\n",
    "    UNK_IDX = 1\n",
    "\n",
    "    def build_vocab(all_tokens, max_vocab_size = vocab_size):\n",
    "        # Returns:\n",
    "        # id2token: list of tokens, where id2token[i] returns token that corresponds to token i\n",
    "        # token2id: dictionary where keys represent tokens and corresponding values represent indices\n",
    "        token_counter = Counter(all_tokens)\n",
    "        vocab, count = zip(*token_counter.most_common(max_vocab_size))\n",
    "        id2token = list(vocab)\n",
    "        token2id = dict(zip(vocab, range(2,2+len(vocab)))) \n",
    "        id2token = ['<pad>', '<unk>'] + id2token\n",
    "        token2id['<pad>'] = PAD_IDX \n",
    "        token2id['<unk>'] = UNK_IDX\n",
    "        return token2id, id2token\n",
    "      \n",
    "    token2id, id2token = build_vocab(all_train_tokens,vocab_size)\n",
    "    \n",
    "    # we need to get new indices mapping after changing the vocab size\n",
    "    train_data_indices = token2index_dataset(train_data_tokens)\n",
    "    val_data_indices = token2index_dataset(val_data_tokens)\n",
    "    \n",
    "    train_loader = prepare_batch_data(train_data_indices, train.target, BATCH_SIZE = 50)\n",
    "    val_loader = prepare_batch_data(val_data_indices, valid.target, BATCH_SIZE = 50)\n",
    "    \n",
    "    model = BagOfWords(len(id2token), emb_size)\n",
    "    # use the optimization parameters we have tuned \n",
    "    criterion = torch.nn.CrossEntropyLoss()\n",
    "    optimizer = torch.optim.Adam(model.parameters(), lr=0.001)\n",
    "    scheduler = torch.optim.lr_scheduler.LambdaLR(optimizer, lr_lambda=lambda epoch: 0.95**epoch)\n",
    "    \n",
    "    _list = []\n",
    "    for epoch in range(20):\n",
    "        scheduler.step()\n",
    "        for i, (data, lengths, labels) in enumerate(train_loader):\n",
    "            model.train()\n",
    "            data_batch, length_batch, label_batch = data, lengths, labels\n",
    "            optimizer.zero_grad()\n",
    "            outputs = model(data_batch, length_batch)\n",
    "            loss = criterion(outputs, label_batch)\n",
    "            loss.backward()\n",
    "            optimizer.step()\n",
    "        _list.append( test_model(val_loader, model))\n",
    "    return _list"
   ]
  },
  {
   "cell_type": "code",
   "execution_count": 60,
   "metadata": {},
   "outputs": [],
   "source": [
    "n_gram = {}\n",
    "# get training data for different grams\n",
    "for gram in [1,2,3,4]:\n",
    "    n_gram[gram] = tune_model(ngram = gram)"
   ]
  },
  {
   "cell_type": "code",
   "execution_count": 61,
   "metadata": {},
   "outputs": [
    {
     "data": {
      "text/plain": [
       "{1: [77.38,\n",
       "  84.02,\n",
       "  85.74,\n",
       "  86.8,\n",
       "  87.86,\n",
       "  88.06,\n",
       "  88.18,\n",
       "  88.38,\n",
       "  88.14,\n",
       "  88.3,\n",
       "  88.3,\n",
       "  88.4,\n",
       "  88.34,\n",
       "  88.2,\n",
       "  88.26,\n",
       "  88.14,\n",
       "  88.04,\n",
       "  87.92,\n",
       "  88.02,\n",
       "  88.02],\n",
       " 2: [65.6,\n",
       "  79.06,\n",
       "  80.96,\n",
       "  82.34,\n",
       "  83.0,\n",
       "  83.42,\n",
       "  83.64,\n",
       "  83.8,\n",
       "  83.88,\n",
       "  83.8,\n",
       "  84.08,\n",
       "  84.08,\n",
       "  84.16,\n",
       "  84.18,\n",
       "  84.06,\n",
       "  84.16,\n",
       "  84.06,\n",
       "  84.06,\n",
       "  84.02,\n",
       "  83.96],\n",
       " 3: [56.78,\n",
       "  58.62,\n",
       "  74.56,\n",
       "  74.22,\n",
       "  76.16,\n",
       "  76.78,\n",
       "  77.48,\n",
       "  77.82,\n",
       "  78.2,\n",
       "  77.6,\n",
       "  78.3,\n",
       "  77.88,\n",
       "  78.68,\n",
       "  78.66,\n",
       "  78.72,\n",
       "  78.8,\n",
       "  78.3,\n",
       "  78.86,\n",
       "  78.68,\n",
       "  78.86],\n",
       " 4: [50.0,\n",
       "  59.18,\n",
       "  51.86,\n",
       "  69.32,\n",
       "  60.92,\n",
       "  57.24,\n",
       "  64.88,\n",
       "  71.52,\n",
       "  71.52,\n",
       "  72.14,\n",
       "  72.56,\n",
       "  72.52,\n",
       "  72.6,\n",
       "  72.68,\n",
       "  72.92,\n",
       "  72.82,\n",
       "  73.14,\n",
       "  73.12,\n",
       "  73.0,\n",
       "  72.64]}"
      ]
     },
     "execution_count": 61,
     "metadata": {},
     "output_type": "execute_result"
    }
   ],
   "source": [
    "n_gram"
   ]
  },
  {
   "cell_type": "code",
   "execution_count": null,
   "metadata": {},
   "outputs": [],
   "source": []
  },
  {
   "cell_type": "code",
   "execution_count": 62,
   "metadata": {},
   "outputs": [],
   "source": [
    "voc_size = {}\n",
    "# get training data for different vocab. size \n",
    "for vocab_size in [3000, 10000, 25000,100000]:\n",
    "    voc_size[vocab_size] = tune_model(ngram = 1, vocab_size = vocab_size)"
   ]
  },
  {
   "cell_type": "code",
   "execution_count": 63,
   "metadata": {},
   "outputs": [
    {
     "data": {
      "text/plain": [
       "{3000: [77.26,\n",
       "  82.74,\n",
       "  84.36,\n",
       "  84.7,\n",
       "  85.92,\n",
       "  85.84,\n",
       "  86.14,\n",
       "  86.46,\n",
       "  86.3,\n",
       "  86.42,\n",
       "  86.56,\n",
       "  86.4,\n",
       "  86.32,\n",
       "  86.3,\n",
       "  86.34,\n",
       "  86.22,\n",
       "  86.24,\n",
       "  86.3,\n",
       "  86.06,\n",
       "  86.12],\n",
       " 10000: [78.36,\n",
       "  83.32,\n",
       "  85.26,\n",
       "  86.44,\n",
       "  87.04,\n",
       "  87.52,\n",
       "  87.86,\n",
       "  87.94,\n",
       "  87.94,\n",
       "  88.28,\n",
       "  88.02,\n",
       "  88.04,\n",
       "  88.08,\n",
       "  88.12,\n",
       "  87.96,\n",
       "  87.98,\n",
       "  87.88,\n",
       "  87.88,\n",
       "  87.8,\n",
       "  87.84],\n",
       " 25000: [78.22,\n",
       "  84.46,\n",
       "  86.02,\n",
       "  87.26,\n",
       "  87.92,\n",
       "  88.38,\n",
       "  88.32,\n",
       "  88.36,\n",
       "  88.5,\n",
       "  88.46,\n",
       "  88.44,\n",
       "  88.5,\n",
       "  88.34,\n",
       "  88.44,\n",
       "  88.4,\n",
       "  88.36,\n",
       "  88.4,\n",
       "  88.18,\n",
       "  88.16,\n",
       "  88.14],\n",
       " 100000: [78.32,\n",
       "  83.7,\n",
       "  85.94,\n",
       "  87.26,\n",
       "  87.8,\n",
       "  88.06,\n",
       "  88.42,\n",
       "  88.48,\n",
       "  88.46,\n",
       "  88.48,\n",
       "  88.42,\n",
       "  88.56,\n",
       "  88.52,\n",
       "  88.5,\n",
       "  88.44,\n",
       "  88.16,\n",
       "  88.02,\n",
       "  88.16,\n",
       "  88.16,\n",
       "  88.18]}"
      ]
     },
     "execution_count": 63,
     "metadata": {},
     "output_type": "execute_result"
    }
   ],
   "source": [
    "voc_size"
   ]
  },
  {
   "cell_type": "code",
   "execution_count": null,
   "metadata": {},
   "outputs": [],
   "source": [
    "embd_size = {}\n",
    "# try embedding size\n",
    "for embd in [25, 100, 200, 500]:\n",
    "    embd_size[embd] = tune_model(ngram = 1, vocab_size = 25000, emb_size = embd)"
   ]
  },
  {
   "cell_type": "code",
   "execution_count": 72,
   "metadata": {},
   "outputs": [
    {
     "data": {
      "text/plain": [
       "{25: [72.74,\n",
       "  80.92,\n",
       "  83.3,\n",
       "  84.6,\n",
       "  85.54,\n",
       "  86.1,\n",
       "  86.52,\n",
       "  86.86,\n",
       "  87.12,\n",
       "  87.42,\n",
       "  87.64,\n",
       "  87.86,\n",
       "  87.84,\n",
       "  87.98,\n",
       "  87.9,\n",
       "  87.82,\n",
       "  87.96,\n",
       "  88.02,\n",
       "  88.16,\n",
       "  88.12],\n",
       " 100: [78.92,\n",
       "  84.48,\n",
       "  86.22,\n",
       "  87.18,\n",
       "  87.54,\n",
       "  88.02,\n",
       "  88.32,\n",
       "  88.42,\n",
       "  88.44,\n",
       "  88.54,\n",
       "  88.38,\n",
       "  88.48,\n",
       "  88.36,\n",
       "  88.58,\n",
       "  88.36,\n",
       "  88.34,\n",
       "  88.22,\n",
       "  88.2,\n",
       "  88.12,\n",
       "  87.88],\n",
       " 200: [80.6,\n",
       "  85.74,\n",
       "  87.08,\n",
       "  87.96,\n",
       "  88.38,\n",
       "  88.66,\n",
       "  88.64,\n",
       "  88.72,\n",
       "  88.68,\n",
       "  88.6,\n",
       "  88.46,\n",
       "  88.42,\n",
       "  88.44,\n",
       "  88.4,\n",
       "  88.38,\n",
       "  88.22,\n",
       "  88.06,\n",
       "  88.06,\n",
       "  87.76,\n",
       "  87.96],\n",
       " 500: [83.46,\n",
       "  87.12,\n",
       "  87.96,\n",
       "  88.88,\n",
       "  88.8,\n",
       "  88.6,\n",
       "  88.12,\n",
       "  88.44,\n",
       "  88.12,\n",
       "  88.34,\n",
       "  87.78,\n",
       "  87.74,\n",
       "  87.9,\n",
       "  87.58,\n",
       "  87.42,\n",
       "  87.4,\n",
       "  87.04,\n",
       "  87.32,\n",
       "  87.24,\n",
       "  86.9]}"
      ]
     },
     "execution_count": 72,
     "metadata": {},
     "output_type": "execute_result"
    }
   ],
   "source": [
    "embd_size"
   ]
  },
  {
   "cell_type": "code",
   "execution_count": null,
   "metadata": {},
   "outputs": [],
   "source": []
  },
  {
   "cell_type": "code",
   "execution_count": 306,
   "metadata": {},
   "outputs": [
    {
     "data": {
      "image/png": "[encoded data removed]",
      "text/plain": [
       "<Figure size 432x288 with 1 Axes>"
      ]
     },
     "metadata": {},
     "output_type": "display_data"
    }
   ],
   "source": [
    "import pandas as pd\n",
    "df_x = pd.DataFrame({'Epoch': range(1,51)})\n",
    "df_y = pd.DataFrame(learn_tune)\n",
    "import matplotlib.pyplot as plt\n",
    "plt.style.use('seaborn-darkgrid')\n",
    "palette = plt.get_cmap('Set1')\n",
    "num=0\n",
    "# now we plot cures based on the data we have \n",
    "for column in df_y:\n",
    "    num+=1\n",
    "    plt.plot(df_x['Epoch'], df_y[column], marker='', color=palette(num), linewidth=1, alpha=0.9, label= 'Learning Rate: ' + str(column))\n",
    "    plt.legend(loc=4, ncol=1,fontsize =13)\n",
    "    plt.title(\"Validation Accuracy against Epoch with Different Learning Rates\", fontsize=12, fontweight=0, color='black')\n",
    "    plt.xlabel(\"Epoch\")\n",
    "    plt.ylabel(\"Validation Accuracy\")"
   ]
  },
  {
   "cell_type": "code",
   "execution_count": 289,
   "metadata": {},
   "outputs": [
    {
     "data": {
      "image/png": "[encoded data removed]",
      "text/plain": [
       "<Figure size 432x288 with 1 Axes>"
      ]
     },
     "metadata": {},
     "output_type": "display_data"
    }
   ],
   "source": [
    "df_x = pd.DataFrame({'Epoch': range(1,21)})\n",
    "df_y = pd.DataFrame(annealing_or_not)\n",
    "plt.style.use('seaborn-darkgrid')\n",
    "palette = plt.get_cmap('Set2')\n",
    "num=0\n",
    "for column in df_y:\n",
    "    num+=1\n",
    "    plt.plot(df_x['Epoch'], df_y[column], marker='', color=palette(num), linewidth=1, alpha=0.9, label= 'Annealing Learning: ' + str(column))\n",
    "    plt.legend(loc=4, ncol=1,fontsize =13)\n",
    "    plt.title(\"Validation Accuracy against Epoch with Annealing Learning\", fontsize=12, fontweight=0, color='black')\n",
    "    plt.xlabel(\"Epoch\")\n",
    "    plt.ylabel(\"Validation Accuracy\")"
   ]
  },
  {
   "cell_type": "code",
   "execution_count": 290,
   "metadata": {},
   "outputs": [
    {
     "data": {
      "image/png": "[encoded data removed]",
      "text/plain": [
       "<Figure size 432x288 with 1 Axes>"
      ]
     },
     "metadata": {},
     "output_type": "display_data"
    }
   ],
   "source": [
    "df_x = pd.DataFrame({'Epoch': range(1,51)})\n",
    "df_y = pd.DataFrame(optimizer_kind)\n",
    "plt.style.use('seaborn-darkgrid')\n",
    "palette = plt.get_cmap('Set2')\n",
    "num=0\n",
    "for column in df_y:\n",
    "    num+=1\n",
    "    plt.plot(df_x['Epoch'], df_y[column], marker='', color=palette(num), linewidth=1, alpha=0.9, label= 'Optimizer Kind: ' + str(column))\n",
    "    plt.legend(loc=4, ncol=1,fontsize =13)\n",
    "    plt.title(\"Validation Accuracy against Epoch with Different Optmizers\", fontsize=12, fontweight=0, color='black')\n",
    "    plt.xlabel(\"Epoch\")\n",
    "    plt.ylabel(\"Validation Accuracy\")"
   ]
  },
  {
   "cell_type": "code",
   "execution_count": 291,
   "metadata": {},
   "outputs": [
    {
     "data": {
      "image/png": "[encoded data removed]",
      "text/plain": [
       "<Figure size 432x288 with 1 Axes>"
      ]
     },
     "metadata": {},
     "output_type": "display_data"
    }
   ],
   "source": [
    "df_x = pd.DataFrame({'Epoch': range(1,21)})\n",
    "df_y = pd.DataFrame(n_gram)\n",
    "plt.style.use('seaborn-darkgrid')\n",
    "palette = plt.get_cmap('Set1')\n",
    "num=0\n",
    "for column in df_y:\n",
    "    num+=1\n",
    "    plt.plot(df_x['Epoch'], df_y[column], marker='', color=palette(num), linewidth=1, alpha=0.9, label= 'Number of gram(s): ' + str(column))\n",
    "    plt.legend(loc=4, ncol=1,fontsize =13)\n",
    "    plt.title(\"Validation Accuracy against Epoch with Different Grams\", fontsize=12, fontweight=0, color='black')\n",
    "    plt.xlabel(\"Epoch\")\n",
    "    plt.ylabel(\"Validation Accuracy\")"
   ]
  },
  {
   "cell_type": "code",
   "execution_count": 292,
   "metadata": {},
   "outputs": [
    {
     "data": {
      "image/png": "[encoded data removed]",
      "text/plain": [
       "<Figure size 432x288 with 1 Axes>"
      ]
     },
     "metadata": {},
     "output_type": "display_data"
    }
   ],
   "source": [
    "df_x = pd.DataFrame({'Epoch': range(1,21)})\n",
    "df_y = pd.DataFrame(voc_size)\n",
    "plt.style.use('seaborn-darkgrid')\n",
    "palette = plt.get_cmap('Set1')\n",
    "num=0\n",
    "for column in df_y:\n",
    "    num+=1\n",
    "    plt.plot(df_x['Epoch'], df_y[column], marker='', color=palette(num), linewidth=1, alpha=0.9, label= 'Vocabulary Size: ' + str(column))\n",
    "    plt.legend(loc=4, ncol=1,fontsize =13)\n",
    "    plt.title(\"Validation Accuracy against Epoch with Different Vocab Sizes\", fontsize=12, fontweight=0, color='black')\n",
    "    plt.xlabel(\"Epoch\")\n",
    "    plt.ylabel(\"Validation Accuracy\")"
   ]
  },
  {
   "cell_type": "code",
   "execution_count": 293,
   "metadata": {},
   "outputs": [
    {
     "data": {
      "image/png": "[encoded data removed]",
      "text/plain": [
       "<Figure size 432x288 with 1 Axes>"
      ]
     },
     "metadata": {},
     "output_type": "display_data"
    }
   ],
   "source": [
    "df_x = pd.DataFrame({'Epoch': range(1,21)})\n",
    "df_y = pd.DataFrame(embd_size)\n",
    "plt.style.use('seaborn-darkgrid')\n",
    "palette = plt.get_cmap('Set1')\n",
    "num=0\n",
    "for column in df_y:\n",
    "    num+=1\n",
    "    plt.plot(df_x['Epoch'], df_y[column], marker='', color=palette(num), linewidth=1, alpha=0.9, label= 'Embedding Size: ' + str(column))\n",
    "    plt.legend(loc=4, ncol=1,fontsize =13)\n",
    "    plt.title(\"Validation Accuracy against Epoch with Different Embedding Sizes\", fontsize=12, fontweight=0, color='black')\n",
    "    plt.xlabel(\"Epoch\")\n",
    "    plt.ylabel(\"Validation Accuracy\")"
   ]
  },
  {
   "cell_type": "code",
   "execution_count": null,
   "metadata": {},
   "outputs": [],
   "source": []
  },
  {
   "cell_type": "code",
   "execution_count": null,
   "metadata": {},
   "outputs": [],
   "source": []
  },
  {
   "cell_type": "code",
   "execution_count": null,
   "metadata": {},
   "outputs": [],
   "source": []
  },
  {
   "cell_type": "code",
   "execution_count": 139,
   "metadata": {},
   "outputs": [],
   "source": [
    "# remove punctuation but retain capitalizations\n",
    "def tokenize_w_cap(sent):\n",
    "  tokens = tokenizer(sent)\n",
    "  return [token.text for token in tokens if (token.text not in punctuations)]"
   ]
  },
  {
   "cell_type": "code",
   "execution_count": 147,
   "metadata": {},
   "outputs": [],
   "source": [
    "def tokenize_dataset_w_cap(dataset):\n",
    "    token_dataset = []\n",
    "    # we are keeping track of all tokens in dataset \n",
    "    # in order to create vocabulary later\n",
    "    all_tokens = []\n",
    "    \n",
    "    for sample in dataset:\n",
    "        tokens = tokenize_w_cap(sample)\n",
    "        token_dataset.append(tokens)\n",
    "        all_tokens += tokens\n",
    "\n",
    "    return token_dataset, all_tokens"
   ]
  },
  {
   "cell_type": "code",
   "execution_count": 148,
   "metadata": {},
   "outputs": [],
   "source": [
    "# get data capitalization \n",
    "val_data_1_gram_w_Cap, _ = tokenize_dataset_w_cap(valid.text)\n",
    "pkl.dump(val_data_1_gram_w_Cap, open(\"val_data_1_gram_w_Cap.p\", \"wb\"))\n",
    "\n",
    "train_data_1_gram_w_Cap, all_train_1_gram_w_Cap = tokenize_dataset_w_cap(train.text)\n",
    "pkl.dump(train_data_1_gram_w_Cap, open(\"train_data_1_gram_w_Cap.p\", \"wb\"))\n",
    "pkl.dump(all_train_1_gram_w_Cap, open(\"all_train_1_gram_w_Cap.p\", \"wb\"))"
   ]
  },
  {
   "cell_type": "code",
   "execution_count": 307,
   "metadata": {},
   "outputs": [],
   "source": [
    "def build_vocab(all_tokens, max_vocab_size = 25000):\n",
    "    # Returns:\n",
    "    # id2token: list of tokens, where id2token[i] returns token that corresponds to token i\n",
    "    # token2id: dictionary where keys represent tokens and corresponding values represent indices\n",
    "    token_counter = Counter(all_tokens)\n",
    "    vocab, count = zip(*token_counter.most_common(max_vocab_size))\n",
    "    id2token = list(vocab)\n",
    "    token2id = dict(zip(vocab, range(2,2+len(vocab)))) \n",
    "    id2token = ['<pad>', '<unk>'] + id2token\n",
    "    token2id['<pad>'] = PAD_IDX \n",
    "    token2id['<unk>'] = UNK_IDX\n",
    "    return token2id, id2token"
   ]
  },
  {
   "cell_type": "code",
   "execution_count": 133,
   "metadata": {},
   "outputs": [],
   "source": [
    "def compare_scheme(with_cap = True):\n",
    "    if with_cap: \n",
    "        train_data_tokens = pkl.load(open(\"train_data_1_gram_w_Cap.p\", \"rb\"))\n",
    "        all_train_tokens = pkl.load(open(\"all_train_1_gram_w_Cap.p\", \"rb\"))\n",
    "        val_data_tokens = pkl.load(open(\"val_data_1_gram_w_Cap.p\", \"rb\"))\n",
    "    else:\n",
    "        train_data_tokens = pkl.load(open(\"train_data_1gram.p\", \"rb\"))\n",
    "        all_train_tokens = pkl.load(open(\"all_train_1gram.p\", \"rb\"))\n",
    "        val_data_tokens = pkl.load(open(\"val_data_1gram.p\", \"rb\"))   \n",
    "    PAD_IDX = 0\n",
    "    UNK_IDX = 1\n",
    "\n",
    "    token2id, id2token = build_vocab(all_train_tokens)\n",
    "\n",
    "    train_data_indices = token2index_dataset(train_data_tokens)\n",
    "    val_data_indices = token2index_dataset(val_data_tokens)\n",
    "    train_loader = prepare_batch_data(train_data_indices, train.target, BATCH_SIZE = 50)\n",
    "    val_loader = prepare_batch_data(val_data_indices, valid.target, BATCH_SIZE = 50)\n",
    "    model = BagOfWords(len(id2token), 500)\n",
    "    criterion = torch.nn.CrossEntropyLoss()\n",
    "    optimizer = torch.optim.Adam(model.parameters(), lr=0.001)\n",
    "    scheduler = torch.optim.lr_scheduler.LambdaLR(optimizer, lr_lambda=lambda epoch: 0.95**epoch)\n",
    "    \n",
    "    _list = []\n",
    "    for epoch in range(20):\n",
    "        scheduler.step()\n",
    "        for i, (data, lengths, labels) in enumerate(train_loader):\n",
    "            model.train()\n",
    "            data_batch, length_batch, label_batch = data, lengths, labels\n",
    "            optimizer.zero_grad()\n",
    "            outputs = model(data_batch, length_batch)\n",
    "            loss = criterion(outputs, label_batch)\n",
    "            loss.backward()\n",
    "            optimizer.step()\n",
    "            # validate every 100 iterations\n",
    "            # if i > 0 and i % 200 == 0:\n",
    "                # validate\n",
    "            #    val_acc = test_model(val_loader, model)\n",
    "            #    print('Epoch: [{}/{}], Step: [{}/{}], Validation Acc: {}'.format( \n",
    "            #               epoch+1, 10, i+1, len(train_loader), val_acc))\n",
    "        print(epoch)\n",
    "        _list.append( test_model(val_loader, model))\n",
    "    return _list  "
   ]
  },
  {
   "cell_type": "code",
   "execution_count": null,
   "metadata": {},
   "outputs": [],
   "source": [
    "w_Cap = {}\n",
    "# get data for capitalization accuracy\n",
    "for cap in [True, False]:\n",
    "    w_Cap[cap] = compare_scheme(with_cap = cap)"
   ]
  },
  {
   "cell_type": "code",
   "execution_count": 303,
   "metadata": {},
   "outputs": [
    {
     "data": {
      "text/plain": [
       "{True: [82.8,\n",
       "  86.92,\n",
       "  88.22,\n",
       "  88.08,\n",
       "  88.54,\n",
       "  88.76,\n",
       "  88.42,\n",
       "  88.52,\n",
       "  88.4,\n",
       "  88.16,\n",
       "  87.86,\n",
       "  87.98,\n",
       "  87.78,\n",
       "  87.64,\n",
       "  87.58,\n",
       "  87.52,\n",
       "  87.32,\n",
       "  87.46,\n",
       "  87.36,\n",
       "  87.38],\n",
       " False: [83.52,\n",
       "  86.52,\n",
       "  87.9,\n",
       "  88.28,\n",
       "  88.68,\n",
       "  88.56,\n",
       "  88.64,\n",
       "  88.48,\n",
       "  88.26,\n",
       "  88.24,\n",
       "  88.12,\n",
       "  87.94,\n",
       "  87.78,\n",
       "  87.62,\n",
       "  87.62,\n",
       "  87.44,\n",
       "  87.46,\n",
       "  87.24,\n",
       "  87.14,\n",
       "  87.24]}"
      ]
     },
     "execution_count": 303,
     "metadata": {},
     "output_type": "execute_result"
    }
   ],
   "source": [
    "w_Cap"
   ]
  },
  {
   "cell_type": "code",
   "execution_count": 294,
   "metadata": {
    "scrolled": true
   },
   "outputs": [
    {
     "data": {
      "image/png": "[encoded data removed]",
      "text/plain": [
       "<Figure size 432x288 with 1 Axes>"
      ]
     },
     "metadata": {},
     "output_type": "display_data"
    }
   ],
   "source": [
    "df_x = pd.DataFrame({'Epoch': range(1,21)})\n",
    "df_y = pd.DataFrame(w_Cap)\n",
    "plt.style.use('seaborn-darkgrid')\n",
    "palette = plt.get_cmap('Set2')\n",
    "num=0\n",
    "for column in df_y:\n",
    "    num+=1\n",
    "    plt.plot(df_x['Epoch'], df_y[column], marker='', color=palette(num), linewidth=1, alpha=0.9, label= 'Considering Upper Case: ' + str(column))\n",
    "    plt.legend(loc=4, ncol=1,fontsize =13)\n",
    "    plt.title(\"Validation Accuracy against Epoch with Capitalization or Not\", fontsize=12, fontweight=0, color='black')\n",
    "    plt.xlabel(\"Epoch\")\n",
    "    plt.ylabel(\"Validation Accuracy\") "
   ]
  },
  {
   "cell_type": "code",
   "execution_count": 155,
   "metadata": {},
   "outputs": [],
   "source": [
    "test_data_1_gram_w_Cap, _ = tokenize_dataset_w_cap(test.text)\n",
    "pkl.dump(test_data_1_gram_w_Cap, open(\"test_data_1_gram_w_Cap.p\", \"wb\"))"
   ]
  },
  {
   "cell_type": "code",
   "execution_count": 296,
   "metadata": {},
   "outputs": [],
   "source": [
    "import copy\n",
    "def build_final_model():\n",
    "    train_data_tokens = pkl.load(open(\"train_data_1_gram_w_Cap.p\", \"rb\"))\n",
    "    all_train_tokens = pkl.load(open(\"all_train_1_gram_w_Cap.p\", \"rb\"))\n",
    "    val_data_tokens = pkl.load(open(\"val_data_1_gram_w_Cap.p\", \"rb\"))\n",
    "    PAD_IDX = 0\n",
    "    UNK_IDX = 1   \n",
    "    token2id, id2token = build_vocab(all_train_tokens)\n",
    "\n",
    "    train_data_indices = token2index_dataset(train_data_tokens)\n",
    "    val_data_indices = token2index_dataset(val_data_tokens)\n",
    "    train_loader = prepare_batch_data(train_data_indices, train.target, BATCH_SIZE = 50)\n",
    "    val_loader = prepare_batch_data(val_data_indices, valid.target, BATCH_SIZE = 50)\n",
    "    model = BagOfWords(len(id2token), 500)\n",
    "    criterion = torch.nn.CrossEntropyLoss()\n",
    "    optimizer = torch.optim.Adam(model.parameters(), lr=0.001)\n",
    "    scheduler = torch.optim.lr_scheduler.LambdaLR(optimizer, lr_lambda=lambda epoch: 0.95**epoch)\n",
    "    # _list = []\n",
    "    _list = [0]\n",
    "    for epoch in range(20):\n",
    "        scheduler.step()\n",
    "        for i, (data, lengths, labels) in enumerate(train_loader):\n",
    "            model.train()\n",
    "            data_batch, length_batch, label_batch = data, lengths, labels\n",
    "            optimizer.zero_grad()\n",
    "            outputs = model(data_batch, length_batch)\n",
    "            loss = criterion(outputs, label_batch)\n",
    "            loss.backward()\n",
    "            optimizer.step()\n",
    "        # early stopping: if the validation accuray does not increse any more\n",
    "        # we stop the iteration and return our last model\n",
    "        if (_list[-1] <= test_model(val_loader, model) ):\n",
    "            # update model with higher validation accuracy\n",
    "            model_copy = copy.deepcopy(model)\n",
    "        else:\n",
    "            # return previous model if the accuracy fails to increse to prevent over-fit\n",
    "            return model_copy\n",
    "        _list.append( test_model(val_loader, model))\n",
    "    # return _list"
   ]
  },
  {
   "cell_type": "code",
   "execution_count": null,
   "metadata": {},
   "outputs": [],
   "source": [
    "final_model = build_final_model()"
   ]
  },
  {
   "cell_type": "code",
   "execution_count": 297,
   "metadata": {},
   "outputs": [
    {
     "name": "stdout",
     "output_type": "stream",
     "text": [
      "0\n",
      "1\n",
      "2\n",
      "3\n",
      "4\n",
      "5\n",
      "6\n",
      "7\n",
      "8\n",
      "9\n",
      "10\n",
      "11\n",
      "12\n",
      "13\n",
      "14\n",
      "15\n",
      "16\n",
      "17\n",
      "18\n",
      "19\n"
     ]
    }
   ],
   "source": [
    "final__ = build_final_model()"
   ]
  },
  {
   "cell_type": "code",
   "execution_count": 302,
   "metadata": {},
   "outputs": [
    {
     "data": {
      "image/png": "[encoded data removed]",
      "text/plain": [
       "<Figure size 432x288 with 1 Axes>"
      ]
     },
     "metadata": {},
     "output_type": "display_data"
    }
   ],
   "source": [
    "df_x = pd.DataFrame({'Epoch': range(1,21)})\n",
    "df_y = pd.DataFrame(final__[1:])\n",
    "plt.style.use('seaborn-darkgrid')\n",
    "palette = plt.get_cmap('Set2')\n",
    "num=0\n",
    "for column in df_y:\n",
    "    # num+=1\n",
    "    plt.plot(df_x['Epoch'], df_y[column], marker='', linewidth=1, alpha=0.9)\n",
    "    plt.title(\"Training Curve of Final Model\", fontsize=12, fontweight=0, color='black')\n",
    "    plt.xlabel(\"Epoch\")\n",
    "    plt.ylabel(\"Validation Accuracy\") "
   ]
  },
  {
   "cell_type": "code",
   "execution_count": 164,
   "metadata": {},
   "outputs": [],
   "source": [
    "val_data_tokens = pkl.load(open(\"val_data_1_gram_w_Cap.p\", \"rb\"))\n",
    "test_data_tokens = pkl.load(open(\"test_data_1_gram_w_Cap.p\", \"rb\"))\n",
    "all_train_tokens = pkl.load(open(\"all_train_1_gram_w_Cap.p\", \"rb\"))\n",
    "PAD_IDX = 0\n",
    "UNK_IDX = 1   \n",
    "token2id, id2token = build_vocab(all_train_tokens)\n",
    "val_data_indices = token2index_dataset(val_data_tokens)\n",
    "test_data_indices = token2index_dataset(test_data_tokens)\n",
    "val_loader = prepare_batch_data(val_data_indices, valid.target, BATCH_SIZE = 50)\n",
    "test_loader = prepare_batch_data(test_data_indices, test.target, BATCH_SIZE = 50, shuffle = False)"
   ]
  },
  {
   "cell_type": "code",
   "execution_count": 249,
   "metadata": {},
   "outputs": [
    {
     "name": "stdout",
     "output_type": "stream",
     "text": [
      "Val Acc 88.78\n",
      "Test Acc 85.288\n"
     ]
    }
   ],
   "source": [
    "print (\"Val Acc {}\".format(test_model(val_loader, final_model)))\n",
    "print (\"Test Acc {}\".format(test_model(test_loader, final_model)))"
   ]
  },
  {
   "cell_type": "code",
   "execution_count": null,
   "metadata": {},
   "outputs": [],
   "source": []
  },
  {
   "cell_type": "code",
   "execution_count": null,
   "metadata": {},
   "outputs": [],
   "source": []
  },
  {
   "cell_type": "code",
   "execution_count": 259,
   "metadata": {},
   "outputs": [],
   "source": [
    "def print_predictions(loader, model):\n",
    "    # use this function to print prediction samples\n",
    "    correct = {}\n",
    "    wrong = {}\n",
    "    model.eval()\n",
    "    for data, lengths, labels in loader:\n",
    "        data_batch, length_batch, label_batch = data, lengths, labels\n",
    "        outputs = F.softmax(model(data_batch, length_batch), dim=1)\n",
    "        predicted = outputs.max(1, keepdim=True)[1]\n",
    "        for ind in range(50):\n",
    "            # record correct indices data to the correct file\n",
    "            if (predicted.data.tolist()[ind][0] == labels.data.tolist()[ind]):\n",
    "                correct[ind] = data[ind].tolist()\n",
    "            else:\n",
    "                wrong[ind] = data[ind].tolist()\n",
    "        # stop when we have enough data\n",
    "        if (len(correct) > 3) and (len(wrong) > 3):\n",
    "            break\n",
    "    return correct, wrong"
   ]
  },
  {
   "cell_type": "code",
   "execution_count": 264,
   "metadata": {},
   "outputs": [],
   "source": [
    "cor, wro = print_predictions(val_loader,final_model)"
   ]
  },
  {
   "cell_type": "code",
   "execution_count": 280,
   "metadata": {},
   "outputs": [
    {
     "data": {
      "text/plain": [
       "['The main reason to see this film is Warren William who is in top form as the <unk> campaign manager He is electric constantly finding ways to fool the public and defeat the opposing party in the midst of the biggest disasters William is a great actor -- I feel he never got his due Bette Davis as his girlfriend also shines in an under written role Personally I found Guy <unk> not quite right as the lame brained candidate that William and the others are trying to <unk> on the public He seemed more like an empty canvas than a person I would have preferred to see a real character emerge rather than a non character The story itself is implausible silly and clichéd But Warren William and Bette Davis are well worth watching']"
      ]
     },
     "execution_count": 280,
     "metadata": {},
     "output_type": "execute_result"
    }
   ],
   "source": [
    "temp_tokens = []\n",
    "# extract meaningful word indices\n",
    "for id in wro[3]:\n",
    "    # stop at padding indices\n",
    "    if id == 0:\n",
    "        break\n",
    "    # transform indices to text\n",
    "    temp_tokens.append(id2token[id])\n",
    "[' '.join(temp_tokens)]"
   ]
  },
  {
   "cell_type": "code",
   "execution_count": 281,
   "metadata": {},
   "outputs": [
    {
     "data": {
      "text/plain": [
       "[\"A lot of the user comments i have seen on the IMDB for this movie do n't really do it justice First of all let me just say that this movie is not to be taken seriously It 's supposed to be a fun yet stupid movie that does n't require one to think only to enjoy it If you watch this movie with the intent to see a masterpiece in either filmmaking or in humour then you will be sorely disappointed Yet if you want to just watch a goofy movie with some talented actors actresses and some good catch phrases then you will enjoy it\"]"
      ]
     },
     "execution_count": 281,
     "metadata": {},
     "output_type": "execute_result"
    }
   ],
   "source": [
    "temp_tokens = []\n",
    "for id in wro[6]:\n",
    "    if id == 0:\n",
    "        break\n",
    "    temp_tokens.append(id2token[id])\n",
    "[' '.join(temp_tokens)]"
   ]
  },
  {
   "cell_type": "code",
   "execution_count": 282,
   "metadata": {},
   "outputs": [
    {
     "data": {
      "text/plain": [
       "[\"I have complained to ABC about the cancellation of six degrees If enough people do the same then it could be enough to bring this fabulous show back to life Just go onto the official site and the rest is simple enough I do not understand why this show has been cancelled What a fantastic show cast and characters The whole concept is gripping viewing I am <unk> that my favourite show is over after just one series Why is this Six degrees is phenomenal it 's better than so many other TV programmes out there Until I heard they were stopping it from a friend it had n't even occurred to me that this might happen\"]"
      ]
     },
     "execution_count": 282,
     "metadata": {},
     "output_type": "execute_result"
    }
   ],
   "source": [
    "temp_tokens = []\n",
    "for id in wro[43]:\n",
    "    if id == 0:\n",
    "        break\n",
    "    temp_tokens.append(id2token[id])\n",
    "[' '.join(temp_tokens)]"
   ]
  },
  {
   "cell_type": "code",
   "execution_count": 283,
   "metadata": {},
   "outputs": [
    {
     "data": {
      "text/plain": [
       "[\"I admit I had to fast forward through this poorly transferred DVD after about 30 minutes -- NOTHING was happening and everyone has already described the plot But has anyone mentioned the opening scene -- a butcher knife is stabbed through a wig and it 's impaled on the grass in the front yard I 'm guessing the bratty kid did it put it 's never explained Really trippy <unk> /><br />I wish this had been a better written or thought out film because what we 're left with if pretty daft and a movie that makes no sense is n't a clever movie it 's just a poorly executed film.<br /><br />I would like to see a cleaned up version and if there was any missing footage I would like to see if it would help Otherwise this is an odd little film that is best if fast forwarded through\"]"
      ]
     },
     "execution_count": 283,
     "metadata": {},
     "output_type": "execute_result"
    }
   ],
   "source": [
    "temp_tokens = []\n",
    "for id in cor[1]:\n",
    "    if id == 0:\n",
    "        break\n",
    "    temp_tokens.append(id2token[id])\n",
    "[' '.join(temp_tokens)]"
   ]
  },
  {
   "cell_type": "code",
   "execution_count": 284,
   "metadata": {},
   "outputs": [
    {
     "data": {
      "text/plain": [
       "[\"This is one creepy movie <unk> than anything David Lynch and that shows what a great director Polanski is since this is not his usual type of work and it is <unk> /><br />It all starts of with <unk> moves into a <unk> block in Paris He soon learns that the previous tenant a young woman committed suicide and he believes the rest of the people living there drove her to it He also believes that they are trying to do the same to him What results is a amazing and frightening look at <unk> /><br />The whole production has classical horror written all over it from the imagery to the music the viewer can feel poor <unk> 's terror building up.<br /><br />Are they all out to kill him Or maybe just drive him mad Is there a difference Find out for yourself 10/10\"]"
      ]
     },
     "execution_count": 284,
     "metadata": {},
     "output_type": "execute_result"
    }
   ],
   "source": [
    "temp_tokens = []\n",
    "for id in cor[2]:\n",
    "    if id == 0:\n",
    "        break\n",
    "    temp_tokens.append(id2token[id])\n",
    "[' '.join(temp_tokens)]"
   ]
  },
  {
   "cell_type": "code",
   "execution_count": 285,
   "metadata": {},
   "outputs": [
    {
     "data": {
      "text/plain": [
       "[\"<unk> was a bold film by Raj <unk> at it 's time In 1997 when such a topic was damn out of the box br /><br />To give him his credit he does succeed in showing how greed changes a person and to what extent the person can go to get what she wants br /><br />The film however is damn melodramatic many places ridiculous br /><br />One wonders why Anil does n't buy a TV for his wife when he earns so much Just to show how poor he <unk> /><br />The twist is well handled but the handling is straight out of 80 's The <unk> Paresh comedy which entertains here and there stands out as a sore thumb as it does n't fit in the story br /><br />Even there are several <unk> scenes br /><br />Direction by Raj <unk> is adequate though at times too melodramatic Music is okay but most songs look forced br /><br <unk> does his part well <unk> is excellent in her part Urmila is decent Amongst rest <unk> Khan is as usual Johny <unk> is funny Paresh irritates <unk> is decent\"]"
      ]
     },
     "execution_count": 285,
     "metadata": {},
     "output_type": "execute_result"
    }
   ],
   "source": [
    "temp_tokens = []\n",
    "for id in cor[7]:\n",
    "    if id == 0:\n",
    "        break\n",
    "    temp_tokens.append(id2token[id])\n",
    "[' '.join(temp_tokens)]"
   ]
  },
  {
   "cell_type": "code",
   "execution_count": null,
   "metadata": {},
   "outputs": [],
   "source": []
  }
 ],
 "metadata": {
  "kernelspec": {
   "display_name": "Python 3",
   "language": "python",
   "name": "python3"
  },
  "language_info": {
   "codemirror_mode": {
    "name": "ipython",
    "version": 3
   },
   "file_extension": ".py",
   "mimetype": "text/x-python",
   "name": "python",
   "nbconvert_exporter": "python",
   "pygments_lexer": "ipython3",
   "version": "3.6.6"
  }
 },
 "nbformat": 4,
 "nbformat_minor": 2
}
